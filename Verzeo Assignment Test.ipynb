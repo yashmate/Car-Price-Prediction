{
 "cells": [
  {
   "cell_type": "code",
   "execution_count": 1,
   "metadata": {},
   "outputs": [],
   "source": [
    "import numpy as np\n",
    "import pandas as pd\n",
    "import matplotlib.pyplot as plt\n",
    "import seaborn as sns"
   ]
  },
  {
   "cell_type": "code",
   "execution_count": 3,
   "metadata": {},
   "outputs": [],
   "source": [
    "df=pd.read_excel('cars_test.xlsx')"
   ]
  },
  {
   "cell_type": "code",
   "execution_count": 4,
   "metadata": {},
   "outputs": [
    {
     "data": {
      "text/plain": [
       "Name                    0\n",
       "Location                0\n",
       "Year                    0\n",
       "Kilometers_Driven       0\n",
       "Fuel_Type               0\n",
       "Transmission            0\n",
       "Owner_Type              0\n",
       "Mileage                 0\n",
       "Engine                 10\n",
       "Power                  10\n",
       "Seats                  11\n",
       "New_Price            1052\n",
       "dtype: int64"
      ]
     },
     "execution_count": 4,
     "metadata": {},
     "output_type": "execute_result"
    }
   ],
   "source": [
    "df.isnull().sum()"
   ]
  },
  {
   "cell_type": "code",
   "execution_count": 5,
   "metadata": {},
   "outputs": [],
   "source": [
    "del df['New_Price']"
   ]
  },
  {
   "cell_type": "code",
   "execution_count": 6,
   "metadata": {},
   "outputs": [],
   "source": [
    "df=df.dropna(axis=0,how='any')"
   ]
  },
  {
   "cell_type": "code",
   "execution_count": 7,
   "metadata": {},
   "outputs": [
    {
     "data": {
      "text/plain": [
       "Name                 0\n",
       "Location             0\n",
       "Year                 0\n",
       "Kilometers_Driven    0\n",
       "Fuel_Type            0\n",
       "Transmission         0\n",
       "Owner_Type           0\n",
       "Mileage              0\n",
       "Engine               0\n",
       "Power                0\n",
       "Seats                0\n",
       "dtype: int64"
      ]
     },
     "execution_count": 7,
     "metadata": {},
     "output_type": "execute_result"
    }
   ],
   "source": [
    "df.isnull().sum()"
   ]
  },
  {
   "cell_type": "code",
   "execution_count": 8,
   "metadata": {},
   "outputs": [
    {
     "data": {
      "text/plain": [
       "(1223, 11)"
      ]
     },
     "execution_count": 8,
     "metadata": {},
     "output_type": "execute_result"
    }
   ],
   "source": [
    "df.shape"
   ]
  },
  {
   "cell_type": "code",
   "execution_count": 9,
   "metadata": {},
   "outputs": [
    {
     "data": {
      "text/plain": [
       "20"
      ]
     },
     "execution_count": 9,
     "metadata": {},
     "output_type": "execute_result"
    }
   ],
   "source": [
    "len(set(df['Year']))"
   ]
  },
  {
   "cell_type": "code",
   "execution_count": 10,
   "metadata": {},
   "outputs": [],
   "source": [
    "year_list=list(set(list(df['Year'])))"
   ]
  },
  {
   "cell_type": "code",
   "execution_count": 11,
   "metadata": {},
   "outputs": [
    {
     "name": "stdout",
     "output_type": "stream",
     "text": [
      "[2016, 2017, 2018, 2019, 1996, 2000, 2002, 2003, 2004, 2005, 2006, 2007, 2008, 2009, 2010, 2011, 2012, 2013, 2014, 2015]\n"
     ]
    }
   ],
   "source": [
    "print(year_list)"
   ]
  },
  {
   "cell_type": "code",
   "execution_count": 12,
   "metadata": {},
   "outputs": [],
   "source": [
    "year_list=sorted(year_list)"
   ]
  },
  {
   "cell_type": "code",
   "execution_count": 13,
   "metadata": {},
   "outputs": [
    {
     "name": "stdout",
     "output_type": "stream",
     "text": [
      "[1996, 2000, 2002, 2003, 2004, 2005, 2006, 2007, 2008, 2009, 2010, 2011, 2012, 2013, 2014, 2015, 2016, 2017, 2018, 2019]\n"
     ]
    }
   ],
   "source": [
    "print(year_list)"
   ]
  },
  {
   "cell_type": "code",
   "execution_count": 14,
   "metadata": {},
   "outputs": [
    {
     "name": "stdout",
     "output_type": "stream",
     "text": [
      "[1, 2, 3, 4, 5, 6, 7, 8, 9, 10, 11, 12, 13, 14, 15, 16, 17, 18, 19, 20]\n"
     ]
    }
   ],
   "source": [
    "year_number=[int(i) for i in range(1,len(year_list)+1)]\n",
    "print(year_number)"
   ]
  },
  {
   "cell_type": "code",
   "execution_count": 15,
   "metadata": {},
   "outputs": [],
   "source": [
    "year_dict=dict(zip(year_list,year_number))"
   ]
  },
  {
   "cell_type": "code",
   "execution_count": 16,
   "metadata": {},
   "outputs": [
    {
     "name": "stdout",
     "output_type": "stream",
     "text": [
      "{1996: 1, 2000: 2, 2002: 3, 2003: 4, 2004: 5, 2005: 6, 2006: 7, 2007: 8, 2008: 9, 2009: 10, 2010: 11, 2011: 12, 2012: 13, 2013: 14, 2014: 15, 2015: 16, 2016: 17, 2017: 18, 2018: 19, 2019: 20}\n"
     ]
    }
   ],
   "source": [
    "print(year_dict)"
   ]
  },
  {
   "cell_type": "code",
   "execution_count": 17,
   "metadata": {},
   "outputs": [],
   "source": [
    "replaced_years=[]\n",
    "for year in list(df['Year']):\n",
    "    replaced_years.append(year_dict[year])"
   ]
  },
  {
   "cell_type": "code",
   "execution_count": 18,
   "metadata": {},
   "outputs": [
    {
     "name": "stdout",
     "output_type": "stream",
     "text": [
      "[15, 14, 18, 13, 15, 17, 16, 14, 12, 16]\n"
     ]
    }
   ],
   "source": [
    "print(replaced_years[:10])"
   ]
  },
  {
   "cell_type": "code",
   "execution_count": 19,
   "metadata": {},
   "outputs": [
    {
     "name": "stdout",
     "output_type": "stream",
     "text": [
      "[998.0, 796.0, 2393.0, 1364.0, 1197.0, 2179.0, 2982.0, 814.0, 1497.0, 2179.0, 1968.0, 1197.0, 1794.0, 1248.0, 1598.0, 1995.0, 1995.0, 1399.0, 1197.0, 1298.0, 1248.0, 1198.0, 796.0, 1799.0, 1299.0, 796.0, 1498.0, 1498.0, 1197.0, 1364.0, 1598.0, 1086.0, 2835.0, 1248.0, 1197.0, 1598.0, 1591.0, 2494.0, 1995.0, 1248.0, 1968.0, 1968.0, 1598.0, 1248.0, 1373.0, 1373.0, 2143.0, 2494.0, 1995.0, 796.0, 1498.0, 2953.0, 1968.0, 1591.0, 2179.0, 1248.0, 1364.0, 1396.0, 1497.0, 1798.0, 1197.0, 1197.0, 1498.0, 998.0, 1199.0, 2179.0, 1498.0, 998.0, 1198.0, 1373.0, 1086.0, 1196.0, 1199.0, 1086.0, 1199.0, 1461.0, 2494.0, 1197.0, 1373.0, 1995.0, 2487.0, 1364.0, 1582.0, 1498.0, 2496.0, 1197.0, 1368.0, 1399.0, 1197.0, 1596.0, 1595.0, 1197.0, 1248.0, 1086.0, 1197.0, 2354.0, 1198.0, 998.0, 1582.0, 1396.0, 624.0, 1995.0, 1498.0, 1199.0, 1248.0, 1968.0, 1498.0, 1498.0, 1197.0, 1995.0, 1198.0, 2143.0, 1198.0, 1197.0, 1591.0, 1197.0, 2993.0, 1248.0, 1498.0, 1373.0, 1248.0, 1364.0, 1995.0, 936.0, 1968.0, 2987.0, 1995.0, 1197.0, 1197.0, 1364.0, 1198.0, 1197.0, 998.0, 1799.0, 796.0, 1999.0, 1396.0, 999.0, 1198.0, 1248.0, 1399.0, 1598.0, 1399.0, 1368.0, 1799.0, 2000.0, 998.0, 1197.0, 1498.0, 1598.0, 1493.0, 1498.0, 2179.0, 1197.0, 1120.0, 814.0, 2143.0, 2987.0, 1498.0, 998.0, 1248.0, 2179.0, 1591.0, 1497.0, 2987.0, 1197.0, 3498.0, 1498.0, 2143.0, 1496.0, 1405.0, 1798.0, 796.0, 1896.0, 998.0, 1461.0, 1198.0, 1197.0, 2143.0, 1598.0, 1498.0, 796.0, 2143.0, 1497.0, 2967.0, 1086.0, 1248.0, 1493.0, 1968.0, 1995.0, 1405.0, 624.0, 2993.0, 1198.0, 796.0, 1197.0, 1995.0, 1461.0, 1248.0, 1248.0, 1497.0, 2993.0, 1995.0, 1995.0, 936.0, 2143.0, 796.0, 1461.0, 1598.0, 1968.0, 1368.0, 1582.0, 1197.0, 1198.0, 1498.0, 2477.0, 1197.0, 1248.0, 1461.0, 1582.0, 1248.0, 2494.0, 1948.0, 1968.0, 1172.0, 1797.0, 1199.0, 1197.0, 1197.0, 2179.0, 1373.0, 1196.0, 1598.0, 1582.0, 2179.0, 2179.0, 2498.0, 1248.0, 1086.0, 1373.0, 1061.0, 1197.0, 796.0, 1197.0, 1364.0, 1198.0, 1086.0, 1197.0, 1591.0, 1399.0, 2179.0, 998.0, 1968.0, 1461.0, 2498.0, 2494.0, 1298.0, 1598.0, 1364.0, 1999.0, 796.0, 1150.0, 1498.0, 1248.0, 2494.0, 2143.0, 1495.0, 1968.0, 2499.0, 2498.0, 1396.0, 1799.0, 1498.0, 2143.0, 1798.0, 1498.0, 1796.0, 796.0, 1248.0, 1498.0, 1968.0, 2982.0, 2362.0, 1197.0, 1591.0, 1497.0, 1497.0, 1461.0, 2987.0, 814.0, 2494.0, 1248.0, 2967.0, 1497.0, 998.0, 1396.0, 1995.0, 2143.0, 1199.0, 998.0, 2179.0, 1497.0, 2494.0, 1197.0, 998.0, 2494.0, 1461.0, 1582.0, 2494.0, 2143.0, 1197.0, 2354.0, 2393.0, 1396.0, 1461.0, 1196.0, 1798.0, 1798.0, 1595.0, 1396.0, 2354.0, 2354.0, 2523.0, 1248.0, 1798.0, 1198.0, 1598.0, 1248.0, 1497.0, 1595.0, 1196.0, 2494.0, 1197.0, 1198.0, 5998.0, 1497.0, 1197.0, 1497.0, 2755.0, 1405.0, 1198.0, 1199.0, 1198.0, 1197.0, 1199.0, 2354.0, 2498.0, 2179.0, 2494.0, 1396.0, 1248.0, 1497.0, 1248.0, 1199.0, 1199.0, 998.0, 1582.0, 1968.0, 1995.0, 2953.0, 1197.0, 1248.0, 1497.0, 1796.0, 2400.0, 2982.0, 2349.0, 1086.0, 2993.0, 1396.0, 1968.0, 1197.0, 1197.0, 1248.0, 1196.0, 2982.0, 1995.0, 1197.0, 1197.0, 1968.0, 1197.0, 2494.0, 1248.0, 1248.0, 998.0, 1591.0, 1896.0, 1197.0, 796.0, 1248.0, 1198.0, 1794.0, 1248.0, 1968.0, 995.0, 1493.0, 1373.0, 1968.0, 1998.0, 1598.0, 1197.0, 1197.0, 1461.0, 2498.0, 1498.0, 1498.0, 2179.0, 1496.0, 2349.0, 1198.0, 2494.0, 1998.0, 1582.0, 1498.0, 2993.0, 1498.0, 1248.0, 1198.0, 1197.0, 999.0, 1248.0, 796.0, 1248.0, 2354.0, 1199.0, 1248.0, 2143.0, 2498.0, 1198.0, 2179.0, 1248.0, 998.0, 1498.0, 1498.0, 999.0, 1248.0, 1198.0, 2477.0, 2143.0, 1248.0, 1495.0, 1968.0, 1497.0, 1995.0, 999.0, 2523.0, 1582.0, 624.0, 1199.0, 1968.0, 2999.0, 2143.0, 2179.0, 2143.0, 2179.0, 1498.0, 1795.0, 2354.0, 1498.0, 2982.0, 1198.0, 2179.0, 1496.0, 1248.0, 1199.0, 1197.0, 1595.0, 1984.0, 1896.0, 1582.0, 2993.0, 2987.0, 1399.0, 1968.0, 1396.0, 2494.0, 998.0, 1591.0, 1497.0, 1995.0, 998.0, 1798.0, 1968.0, 814.0, 1198.0, 1598.0, 1495.0, 2523.0, 793.0, 1120.0, 1341.0, 2494.0, 1186.0, 1968.0, 1499.0, 1998.0, 1497.0, 1197.0, 1248.0, 1198.0, 1248.0, 1991.0, 799.0, 1968.0, 1399.0, 1298.0, 2143.0, 995.0, 1197.0, 1199.0, 1497.0, 2494.0, 1991.0, 1598.0, 1248.0, 1197.0, 1497.0, 998.0, 998.0, 1172.0, 1497.0, 1598.0, 1586.0, 796.0, 2179.0, 1197.0, 2497.0, 1248.0, 998.0, 1248.0, 1199.0, 1582.0, 1497.0, 1197.0, 998.0, 2494.0, 2494.0, 1396.0, 1396.0, 1199.0, 1591.0, 1197.0, 1582.0, 1498.0, 2494.0, 1968.0, 1598.0, 2993.0, 1198.0, 1461.0, 1497.0, 998.0, 1061.0, 1493.0, 1086.0, 814.0, 2179.0, 1968.0, 1461.0, 2494.0, 1497.0, 1248.0, 1461.0, 1197.0, 1956.0, 1461.0, 998.0, 1498.0, 1198.0, 1399.0, 1968.0, 2498.0, 998.0, 1199.0, 1999.0, 1998.0, 2179.0, 1197.0, 1461.0, 1591.0, 1582.0, 796.0, 1461.0, 1248.0, 1248.0, 998.0, 1798.0, 1496.0, 2143.0, 1086.0, 1598.0, 1498.0, 1198.0, 2354.0, 1497.0, 2143.0, 999.0, 2143.0, 1995.0, 2987.0, 2982.0, 2143.0, 1498.0, 1248.0, 1498.0, 1798.0, 1197.0, 1199.0, 1582.0, 2982.0, 2987.0, 1498.0, 998.0, 1498.0, 2755.0, 2143.0, 2143.0, 1248.0, 1199.0, 1198.0, 1396.0, 1341.0, 936.0, 1968.0, 1197.0, 1248.0, 2477.0, 2982.0, 2400.0, 1582.0, 2143.0, 1498.0, 1461.0, 814.0, 2400.0, 998.0, 2143.0, 1197.0, 1968.0, 2993.0, 2179.0, 999.0, 1248.0, 2179.0, 1197.0, 1461.0, 1248.0, 814.0, 1198.0, 1968.0, 1197.0, 1598.0, 1197.0, 1498.0, 2494.0, 1984.0, 1248.0, 2835.0, 796.0, 1995.0, 1396.0, 1582.0, 796.0, 1493.0, 1197.0, 1498.0, 1995.0, 1798.0, 1198.0, 1197.0, 1086.0, 1968.0, 1461.0, 1498.0, 1498.0, 1198.0, 1950.0, 2987.0, 1495.0, 1298.0, 1197.0, 1198.0, 1248.0, 1198.0, 1197.0, 1461.0, 1086.0, 1198.0, 2953.0, 1172.0, 2179.0, 1995.0, 1498.0, 1405.0, 796.0, 1399.0, 1399.0, 1199.0, 1186.0, 1498.0, 1197.0, 2982.0, 1582.0, 814.0, 1499.0, 1197.0, 1582.0, 1798.0, 1248.0, 1199.0, 1399.0, 1497.0, 1498.0, 2967.0, 1198.0, 1968.0, 2179.0, 1493.0, 1498.0, 796.0, 1461.0, 998.0, 1198.0, 1498.0, 2982.0, 1248.0, 796.0, 998.0, 1198.0, 1248.0, 2755.0, 1462.0, 998.0, 1248.0, 1248.0, 1461.0, 814.0, 1198.0, 1388.0, 1497.0, 1198.0, 998.0, 1582.0, 2354.0, 998.0, 1998.0, 1197.0, 624.0, 1499.0, 1405.0, 1896.0, 2477.0, 1496.0, 1197.0, 1197.0, 1197.0, 1197.0, 2494.0, 1586.0, 1497.0, 1197.0, 998.0, 1396.0, 2393.0, 1248.0, 2494.0, 1493.0, 2179.0, 1968.0, 2982.0, 2494.0, 2179.0, 1591.0, 1396.0, 1968.0, 1197.0, 796.0, 799.0, 1197.0, 1197.0, 998.0, 1396.0, 2400.0, 1461.0, 1497.0, 1298.0, 1582.0, 1248.0, 1199.0, 1199.0, 1198.0, 1248.0, 1197.0, 799.0, 1968.0, 1197.0, 796.0, 1997.0, 1368.0, 624.0, 1995.0, 998.0, 2982.0, 1199.0, 1799.0, 2993.0, 2179.0, 1797.0, 1798.0, 796.0, 1498.0, 796.0, 1198.0, 1198.0, 1197.0, 3696.0, 1968.0, 1197.0, 1582.0, 2993.0, 998.0, 1396.0, 1496.0, 1991.0, 1498.0, 1968.0, 1198.0, 1399.0, 1995.0, 1498.0, 2179.0, 1498.0, 1984.0, 1197.0, 1196.0, 1248.0, 2982.0, 1248.0, 814.0, 1198.0, 1197.0, 1086.0, 2143.0, 998.0, 1493.0, 1248.0, 1197.0, 1405.0, 2446.0, 1197.0, 1498.0, 1248.0, 1198.0, 1197.0, 2198.0, 1197.0, 1197.0, 2179.0, 998.0, 1248.0, 1968.0, 1373.0, 1498.0, 1364.0, 2179.0, 1991.0, 814.0, 1248.0, 1364.0, 998.0, 1499.0, 1461.0, 1197.0, 2489.0, 2354.0, 1248.0, 1582.0, 1368.0, 999.0, 2993.0, 1197.0, 2987.0, 2494.0, 2354.0, 998.0, 1396.0, 1197.0, 1497.0, 1198.0, 1495.0, 2499.0, 1497.0, 1248.0, 1498.0, 1373.0, 2477.0, 2147.0, 1196.0, 1598.0, 1298.0, 1498.0, 1197.0, 1598.0, 1896.0, 1198.0, 998.0, 1248.0, 1582.0, 998.0, 796.0, 799.0, 1498.0, 1498.0, 2143.0, 2359.0, 995.0, 1199.0, 1197.0, 1197.0, 998.0, 2354.0, 1591.0, 2143.0, 1199.0, 2498.0, 2359.0, 1396.0, 2494.0, 796.0, 1197.0, 2996.0, 1396.0, 2982.0, 2179.0, 2987.0, 1199.0, 1995.0, 1498.0, 1586.0, 1396.0, 1120.0, 1461.0, 1461.0, 1298.0, 1498.0, 2967.0, 1796.0, 2494.0, 1896.0, 2523.0, 1197.0, 1497.0, 1186.0, 1396.0, 1248.0, 796.0, 2497.0, 1248.0, 1461.0, 1991.0, 998.0, 1086.0, 1199.0, 2523.0, 2993.0, 1497.0, 1197.0, 2494.0, 2495.0, 1197.0, 2477.0, 1373.0, 1968.0, 1248.0, 2982.0, 1086.0, 1493.0, 2148.0, 1248.0, 1197.0, 1248.0, 2393.0, 1496.0, 1364.0, 1186.0, 1248.0, 1968.0, 1198.0, 1197.0, 2179.0, 2143.0, 1396.0, 1198.0, 1968.0, 1197.0, 1199.0, 1120.0, 1399.0, 2494.0, 1396.0, 2143.0, 1582.0, 995.0, 1396.0, 1248.0, 1197.0, 1086.0, 1498.0, 1399.0, 1582.0, 1591.0, 1497.0, 1197.0, 1497.0, 1497.0, 1596.0, 1197.0, 1794.0, 1461.0, 796.0, 1248.0, 1248.0, 2179.0, 1461.0, 1197.0, 1461.0, 998.0, 4395.0, 1497.0, 1396.0, 1198.0, 1498.0, 2143.0, 1798.0, 1799.0, 1582.0, 1984.0, 1389.0, 2982.0, 1591.0, 1498.0, 1197.0, 1968.0, 1120.0, 1968.0, 2993.0, 1248.0, 1197.0, 1498.0, 1197.0, 1199.0, 1248.0, 998.0, 1248.0, 1197.0, 1197.0, 1968.0, 1120.0, 1582.0, 1796.0, 1248.0, 1496.0, 1086.0, 1197.0, 2967.0, 1497.0, 1198.0, 2498.0, 1199.0, 2179.0, 2755.0, 998.0, 796.0, 1799.0, 936.0, 2498.0, 1193.0, 814.0, 2696.0, 1582.0, 1248.0, 1399.0, 1968.0, 1396.0, 1968.0, 2179.0, 1995.0, 1991.0, 1497.0, 1248.0, 2494.0, 1248.0, 1797.0, 1461.0, 2967.0, 1298.0, 1956.0, 1497.0, 1248.0, 1197.0, 1248.0, 1199.0, 1998.0, 2477.0, 1497.0, 814.0, 995.0, 796.0, 1794.0, 1197.0, 1396.0, 1399.0, 1368.0, 2179.0, 1248.0, 1197.0, 1582.0, 1086.0, 1396.0, 1991.0, 2179.0, 1968.0, 1199.0, 2143.0, 1591.0, 2143.0, 2979.0, 2179.0, 1591.0, 1197.0, 1998.0, 1984.0, 1461.0, 1198.0, 2494.0, 796.0, 1798.0, 1373.0, 1968.0, 1248.0, 2143.0, 1197.0, 2143.0, 1497.0, 796.0, 2982.0, 1995.0, 1197.0, 1498.0, 1896.0, 2987.0, 814.0, 998.0, 1493.0, 1591.0, 1197.0, 1590.0, 1498.0, 1598.0, 1086.0, 1956.0, 1461.0, 1298.0, 796.0, 624.0, 1086.0, 796.0, 1399.0, 2993.0, 1498.0, 1248.0, 1197.0, 1197.0, 1197.0, 1995.0, 2143.0, 2494.0, 1248.0, 998.0, 1995.0, 1248.0, 1599.0, 1497.0, 1248.0, 1396.0, 1968.0, 2993.0, 1591.0, 1248.0, 1388.0, 1248.0, 1497.0, 998.0, 1991.0, 1198.0, 1798.0, 1086.0, 1461.0, 1047.0, 1598.0, 1197.0, 1497.0, 1368.0, 1968.0, 1591.0, 1248.0, 1197.0, 1498.0, 1968.0, 1198.0, 1498.0, 2993.0, 1197.0, 1461.0, 1399.0, 1198.0, 1197.0, 814.0, 1598.0, 1197.0, 1461.0, 1197.0, 2148.0]\n"
     ]
    }
   ],
   "source": [
    "engine_list=list(df['Engine'])\n",
    "for i in range(len(engine_list)):\n",
    "    engine_list[i]=float(engine_list[i][:-3])\n",
    "print(engine_list)"
   ]
  },
  {
   "cell_type": "code",
   "execution_count": 20,
   "metadata": {},
   "outputs": [
    {
     "name": "stdout",
     "output_type": "stream",
     "text": [
      "[58.2, 47.3, 147.8, 'null bhp', 82.85, 140.0, 168.7, 55.2, 118.0, 140.0, 167.6, 82.0, 125.0, 75.0, 102.5, 184.0, 184.0, 68.0, 81.8, 85.8, 73.94, 75.0, 47.3, 132.0, 70.0, 46.3, 98.6, 103.52, 80.0, 67.06, 103.6, 68.05, 107.2, 74.0, 85.8, 103.52, 121.3, 102.0, 190.0, 74.0, 174.33, 140.0, 103.52, 88.5, 91.1, 91.1, 136.0, 100.6, 184.0, 47.3]\n"
     ]
    }
   ],
   "source": [
    "power_list=list(df['Power'])\n",
    "invalid_power_indices=[]\n",
    "for i in range(len(power_list)):\n",
    "    try:\n",
    "        power_list[i]=float(power_list[i][:-4])\n",
    "    except:\n",
    "        invalid_power_indices.append(i)\n",
    "print(power_list[:50])"
   ]
  },
  {
   "cell_type": "code",
   "execution_count": 21,
   "metadata": {},
   "outputs": [
    {
     "name": "stdout",
     "output_type": "stream",
     "text": [
      "[3, 73, 121, 142, 190, 196, 258, 366, 408, 419, 425, 434, 554, 569, 603, 670, 696, 863, 868, 918, 1062, 1115]\n"
     ]
    }
   ],
   "source": [
    "print(invalid_power_indices)"
   ]
  },
  {
   "cell_type": "code",
   "execution_count": 22,
   "metadata": {},
   "outputs": [
    {
     "name": "stdout",
     "output_type": "stream",
     "text": [
      "[4.0, 5.0, 7.0, 5.0, 5.0, 7.0, 7.0, 5.0, 5.0, 7.0]\n"
     ]
    }
   ],
   "source": [
    "seats_list=list(df['Seats'])\n",
    "for i in range(len(seats_list)):\n",
    "    seats_list[i]=float(seats_list[i])\n",
    "print(seats_list[:10])"
   ]
  },
  {
   "cell_type": "code",
   "execution_count": 23,
   "metadata": {},
   "outputs": [
    {
     "name": "stdout",
     "output_type": "stream",
     "text": [
      "[32.26, 24.0, 13.6, 23.5, 18.0, 16.0, 12.5, 21.0, 17.0, 15.0]\n"
     ]
    }
   ],
   "source": [
    "mileage_list=list(df['Mileage'])\n",
    "for i in range(len(mileage_list)):\n",
    "    mileage_list[i]=float(mileage_list[i][:-6])\n",
    "print(mileage_list[:10])"
   ]
  },
  {
   "cell_type": "code",
   "execution_count": 24,
   "metadata": {},
   "outputs": [
    {
     "name": "stdout",
     "output_type": "stream",
     "text": [
      "[40929.0, 54493.0, 34000.0, 139000.0, 29000.0, 85609.0, 59000.0, 65000.0, 66000.0, 54684.0]\n"
     ]
    }
   ],
   "source": [
    "kilometers_list=list(df['Kilometers_Driven'])\n",
    "for i in range(len(kilometers_list)):\n",
    "    kilometers_list[i]=float(kilometers_list[i])\n",
    "print(kilometers_list[:10])"
   ]
  },
  {
   "cell_type": "code",
   "execution_count": 26,
   "metadata": {},
   "outputs": [
    {
     "name": "stdout",
     "output_type": "stream",
     "text": [
      "1223\n",
      "1223\n",
      "1223\n",
      "1223\n",
      "1223\n",
      "1223\n"
     ]
    }
   ],
   "source": [
    "print(len(replaced_years))\n",
    "print(len(kilometers_list))\n",
    "print(len(mileage_list))\n",
    "print(len(seats_list))\n",
    "print(len(power_list))\n",
    "print(len(engine_list))"
   ]
  },
  {
   "cell_type": "code",
   "execution_count": 27,
   "metadata": {},
   "outputs": [],
   "source": [
    "location_list=list(df['Location'])\n",
    "fuel_type_list=list(df['Fuel_Type'])\n",
    "transmission_list=list(df['Transmission'])\n",
    "owner_type_list=list(df['Owner_Type'])"
   ]
  },
  {
   "cell_type": "code",
   "execution_count": 28,
   "metadata": {},
   "outputs": [
    {
     "name": "stdout",
     "output_type": "stream",
     "text": [
      "1223\n",
      "1223\n",
      "1223\n",
      "1223\n"
     ]
    }
   ],
   "source": [
    "print(len(location_list))\n",
    "print(len(fuel_type_list))\n",
    "print(len(transmission_list))\n",
    "print(len(owner_type_list))"
   ]
  },
  {
   "cell_type": "code",
   "execution_count": 29,
   "metadata": {},
   "outputs": [
    {
     "name": "stdout",
     "output_type": "stream",
     "text": [
      "22\n"
     ]
    }
   ],
   "source": [
    "print(len(invalid_power_indices))"
   ]
  },
  {
   "cell_type": "code",
   "execution_count": 30,
   "metadata": {},
   "outputs": [],
   "source": [
    "new_replaced_years=[replaced_years[i] for i in range(len(replaced_years)) if i not in invalid_power_indices]"
   ]
  },
  {
   "cell_type": "code",
   "execution_count": 31,
   "metadata": {},
   "outputs": [
    {
     "name": "stdout",
     "output_type": "stream",
     "text": [
      "1201\n"
     ]
    }
   ],
   "source": [
    "print(len(new_replaced_years))"
   ]
  },
  {
   "cell_type": "code",
   "execution_count": 32,
   "metadata": {},
   "outputs": [],
   "source": [
    "new_kilometers_list=[kilometers_list[i] for i in range(len(kilometers_list)) if i not in invalid_power_indices]\n",
    "new_mileage_list=[mileage_list[i] for i in range(len(mileage_list)) if i not in invalid_power_indices]\n",
    "new_seats_list=[seats_list[i] for i in range(len(seats_list)) if i not in invalid_power_indices]\n",
    "new_power_list=[power_list[i] for i in range(len(power_list)) if i not in invalid_power_indices]\n",
    "new_engine_list=[engine_list[i] for i in range(len(engine_list)) if i not in invalid_power_indices]\n",
    "new_location_list=[location_list[i] for i in range(len(location_list)) if i not in invalid_power_indices]\n",
    "new_fuel_type_list=[fuel_type_list[i] for i in range(len(fuel_type_list)) if i not in invalid_power_indices]\n",
    "new_transmission_list=[transmission_list[i] for i in range(len(transmission_list)) if i not in invalid_power_indices]\n",
    "new_owner_type_list=[owner_type_list[i] for i in range(len(owner_type_list)) if i not in invalid_power_indices]"
   ]
  },
  {
   "cell_type": "code",
   "execution_count": 33,
   "metadata": {},
   "outputs": [],
   "source": [
    "new_dataframe=pd.DataFrame(list(zip(new_replaced_years,\n",
    "                                   new_kilometers_list,new_mileage_list,\n",
    "                                    new_seats_list,new_power_list,\n",
    "                                    new_engine_list,new_location_list,\n",
    "                                    new_fuel_type_list,new_transmission_list,\n",
    "                                    \n",
    "                                   new_owner_type_list\n",
    "                                   )),columns =['Year','Kilometers','Mileage',\n",
    "                                               'Seats','Power','Engine','Location',\n",
    "                                               'Fuel Type','Transmission','Owner']) "
   ]
  },
  {
   "cell_type": "code",
   "execution_count": 34,
   "metadata": {},
   "outputs": [
    {
     "data": {
      "text/html": [
       "<div>\n",
       "<style scoped>\n",
       "    .dataframe tbody tr th:only-of-type {\n",
       "        vertical-align: middle;\n",
       "    }\n",
       "\n",
       "    .dataframe tbody tr th {\n",
       "        vertical-align: top;\n",
       "    }\n",
       "\n",
       "    .dataframe thead th {\n",
       "        text-align: right;\n",
       "    }\n",
       "</style>\n",
       "<table border=\"1\" class=\"dataframe\">\n",
       "  <thead>\n",
       "    <tr style=\"text-align: right;\">\n",
       "      <th></th>\n",
       "      <th>Year</th>\n",
       "      <th>Kilometers</th>\n",
       "      <th>Mileage</th>\n",
       "      <th>Seats</th>\n",
       "      <th>Power</th>\n",
       "      <th>Engine</th>\n",
       "      <th>Location</th>\n",
       "      <th>Fuel Type</th>\n",
       "      <th>Transmission</th>\n",
       "      <th>Owner</th>\n",
       "    </tr>\n",
       "  </thead>\n",
       "  <tbody>\n",
       "    <tr>\n",
       "      <th>0</th>\n",
       "      <td>15</td>\n",
       "      <td>40929.0</td>\n",
       "      <td>32.26</td>\n",
       "      <td>4.0</td>\n",
       "      <td>58.20</td>\n",
       "      <td>998.0</td>\n",
       "      <td>Delhi</td>\n",
       "      <td>CNG</td>\n",
       "      <td>Manual</td>\n",
       "      <td>First</td>\n",
       "    </tr>\n",
       "    <tr>\n",
       "      <th>1</th>\n",
       "      <td>14</td>\n",
       "      <td>54493.0</td>\n",
       "      <td>24.00</td>\n",
       "      <td>5.0</td>\n",
       "      <td>47.30</td>\n",
       "      <td>796.0</td>\n",
       "      <td>Coimbatore</td>\n",
       "      <td>Petrol</td>\n",
       "      <td>Manual</td>\n",
       "      <td>Second</td>\n",
       "    </tr>\n",
       "    <tr>\n",
       "      <th>2</th>\n",
       "      <td>18</td>\n",
       "      <td>34000.0</td>\n",
       "      <td>13.60</td>\n",
       "      <td>7.0</td>\n",
       "      <td>147.80</td>\n",
       "      <td>2393.0</td>\n",
       "      <td>Mumbai</td>\n",
       "      <td>Diesel</td>\n",
       "      <td>Manual</td>\n",
       "      <td>First</td>\n",
       "    </tr>\n",
       "    <tr>\n",
       "      <th>3</th>\n",
       "      <td>15</td>\n",
       "      <td>29000.0</td>\n",
       "      <td>18.00</td>\n",
       "      <td>5.0</td>\n",
       "      <td>82.85</td>\n",
       "      <td>1197.0</td>\n",
       "      <td>Mumbai</td>\n",
       "      <td>Petrol</td>\n",
       "      <td>Manual</td>\n",
       "      <td>First</td>\n",
       "    </tr>\n",
       "    <tr>\n",
       "      <th>4</th>\n",
       "      <td>17</td>\n",
       "      <td>85609.0</td>\n",
       "      <td>16.00</td>\n",
       "      <td>7.0</td>\n",
       "      <td>140.00</td>\n",
       "      <td>2179.0</td>\n",
       "      <td>Coimbatore</td>\n",
       "      <td>Diesel</td>\n",
       "      <td>Manual</td>\n",
       "      <td>Second</td>\n",
       "    </tr>\n",
       "  </tbody>\n",
       "</table>\n",
       "</div>"
      ],
      "text/plain": [
       "   Year  Kilometers  Mileage  Seats   Power  Engine    Location Fuel Type  \\\n",
       "0    15     40929.0    32.26    4.0   58.20   998.0       Delhi       CNG   \n",
       "1    14     54493.0    24.00    5.0   47.30   796.0  Coimbatore    Petrol   \n",
       "2    18     34000.0    13.60    7.0  147.80  2393.0      Mumbai    Diesel   \n",
       "3    15     29000.0    18.00    5.0   82.85  1197.0      Mumbai    Petrol   \n",
       "4    17     85609.0    16.00    7.0  140.00  2179.0  Coimbatore    Diesel   \n",
       "\n",
       "  Transmission   Owner  \n",
       "0       Manual   First  \n",
       "1       Manual  Second  \n",
       "2       Manual   First  \n",
       "3       Manual   First  \n",
       "4       Manual  Second  "
      ]
     },
     "execution_count": 34,
     "metadata": {},
     "output_type": "execute_result"
    }
   ],
   "source": [
    "new_dataframe.head()"
   ]
  },
  {
   "cell_type": "code",
   "execution_count": 35,
   "metadata": {},
   "outputs": [],
   "source": [
    "new_dataframe.to_csv('modified_car_prices_test.csv', header=False, index=False)"
   ]
  },
  {
   "cell_type": "code",
   "execution_count": 36,
   "metadata": {},
   "outputs": [],
   "source": [
    "location_set=list(set(list(new_dataframe['Location'])))\n",
    "fuel_type_set=list(set(list(new_dataframe['Fuel Type'])))\n",
    "transmission_set=list(set(list(new_dataframe['Transmission'])))\n",
    "owner_set=list(set(list(new_dataframe['Owner'])))\n"
   ]
  },
  {
   "cell_type": "code",
   "execution_count": 37,
   "metadata": {},
   "outputs": [],
   "source": [
    "for location in location_set:\n",
    "    new_dataframe[location]=0"
   ]
  },
  {
   "cell_type": "code",
   "execution_count": 38,
   "metadata": {},
   "outputs": [],
   "source": [
    "for fuel in fuel_type_set:\n",
    "    new_dataframe[fuel]=0\n",
    "for transmission in transmission_set:\n",
    "    new_dataframe[transmission]=0\n",
    "for owner in owner_set:\n",
    "    new_dataframe[owner]=0"
   ]
  },
  {
   "cell_type": "code",
   "execution_count": 39,
   "metadata": {},
   "outputs": [
    {
     "data": {
      "text/html": [
       "<div>\n",
       "<style scoped>\n",
       "    .dataframe tbody tr th:only-of-type {\n",
       "        vertical-align: middle;\n",
       "    }\n",
       "\n",
       "    .dataframe tbody tr th {\n",
       "        vertical-align: top;\n",
       "    }\n",
       "\n",
       "    .dataframe thead th {\n",
       "        text-align: right;\n",
       "    }\n",
       "</style>\n",
       "<table border=\"1\" class=\"dataframe\">\n",
       "  <thead>\n",
       "    <tr style=\"text-align: right;\">\n",
       "      <th></th>\n",
       "      <th>Year</th>\n",
       "      <th>Kilometers</th>\n",
       "      <th>Mileage</th>\n",
       "      <th>Seats</th>\n",
       "      <th>Power</th>\n",
       "      <th>Engine</th>\n",
       "      <th>Location</th>\n",
       "      <th>Fuel Type</th>\n",
       "      <th>Transmission</th>\n",
       "      <th>Owner</th>\n",
       "      <th>...</th>\n",
       "      <th>Diesel</th>\n",
       "      <th>CNG</th>\n",
       "      <th>Petrol</th>\n",
       "      <th>LPG</th>\n",
       "      <th>Automatic</th>\n",
       "      <th>Manual</th>\n",
       "      <th>Third</th>\n",
       "      <th>Fourth &amp; Above</th>\n",
       "      <th>First</th>\n",
       "      <th>Second</th>\n",
       "    </tr>\n",
       "  </thead>\n",
       "  <tbody>\n",
       "    <tr>\n",
       "      <th>0</th>\n",
       "      <td>15</td>\n",
       "      <td>40929.0</td>\n",
       "      <td>32.26</td>\n",
       "      <td>4.0</td>\n",
       "      <td>58.20</td>\n",
       "      <td>998.0</td>\n",
       "      <td>Delhi</td>\n",
       "      <td>CNG</td>\n",
       "      <td>Manual</td>\n",
       "      <td>First</td>\n",
       "      <td>...</td>\n",
       "      <td>0</td>\n",
       "      <td>0</td>\n",
       "      <td>0</td>\n",
       "      <td>0</td>\n",
       "      <td>0</td>\n",
       "      <td>0</td>\n",
       "      <td>0</td>\n",
       "      <td>0</td>\n",
       "      <td>0</td>\n",
       "      <td>0</td>\n",
       "    </tr>\n",
       "    <tr>\n",
       "      <th>1</th>\n",
       "      <td>14</td>\n",
       "      <td>54493.0</td>\n",
       "      <td>24.00</td>\n",
       "      <td>5.0</td>\n",
       "      <td>47.30</td>\n",
       "      <td>796.0</td>\n",
       "      <td>Coimbatore</td>\n",
       "      <td>Petrol</td>\n",
       "      <td>Manual</td>\n",
       "      <td>Second</td>\n",
       "      <td>...</td>\n",
       "      <td>0</td>\n",
       "      <td>0</td>\n",
       "      <td>0</td>\n",
       "      <td>0</td>\n",
       "      <td>0</td>\n",
       "      <td>0</td>\n",
       "      <td>0</td>\n",
       "      <td>0</td>\n",
       "      <td>0</td>\n",
       "      <td>0</td>\n",
       "    </tr>\n",
       "    <tr>\n",
       "      <th>2</th>\n",
       "      <td>18</td>\n",
       "      <td>34000.0</td>\n",
       "      <td>13.60</td>\n",
       "      <td>7.0</td>\n",
       "      <td>147.80</td>\n",
       "      <td>2393.0</td>\n",
       "      <td>Mumbai</td>\n",
       "      <td>Diesel</td>\n",
       "      <td>Manual</td>\n",
       "      <td>First</td>\n",
       "      <td>...</td>\n",
       "      <td>0</td>\n",
       "      <td>0</td>\n",
       "      <td>0</td>\n",
       "      <td>0</td>\n",
       "      <td>0</td>\n",
       "      <td>0</td>\n",
       "      <td>0</td>\n",
       "      <td>0</td>\n",
       "      <td>0</td>\n",
       "      <td>0</td>\n",
       "    </tr>\n",
       "    <tr>\n",
       "      <th>3</th>\n",
       "      <td>15</td>\n",
       "      <td>29000.0</td>\n",
       "      <td>18.00</td>\n",
       "      <td>5.0</td>\n",
       "      <td>82.85</td>\n",
       "      <td>1197.0</td>\n",
       "      <td>Mumbai</td>\n",
       "      <td>Petrol</td>\n",
       "      <td>Manual</td>\n",
       "      <td>First</td>\n",
       "      <td>...</td>\n",
       "      <td>0</td>\n",
       "      <td>0</td>\n",
       "      <td>0</td>\n",
       "      <td>0</td>\n",
       "      <td>0</td>\n",
       "      <td>0</td>\n",
       "      <td>0</td>\n",
       "      <td>0</td>\n",
       "      <td>0</td>\n",
       "      <td>0</td>\n",
       "    </tr>\n",
       "    <tr>\n",
       "      <th>4</th>\n",
       "      <td>17</td>\n",
       "      <td>85609.0</td>\n",
       "      <td>16.00</td>\n",
       "      <td>7.0</td>\n",
       "      <td>140.00</td>\n",
       "      <td>2179.0</td>\n",
       "      <td>Coimbatore</td>\n",
       "      <td>Diesel</td>\n",
       "      <td>Manual</td>\n",
       "      <td>Second</td>\n",
       "      <td>...</td>\n",
       "      <td>0</td>\n",
       "      <td>0</td>\n",
       "      <td>0</td>\n",
       "      <td>0</td>\n",
       "      <td>0</td>\n",
       "      <td>0</td>\n",
       "      <td>0</td>\n",
       "      <td>0</td>\n",
       "      <td>0</td>\n",
       "      <td>0</td>\n",
       "    </tr>\n",
       "  </tbody>\n",
       "</table>\n",
       "<p>5 rows × 31 columns</p>\n",
       "</div>"
      ],
      "text/plain": [
       "   Year  Kilometers  Mileage  Seats   Power  Engine    Location Fuel Type  \\\n",
       "0    15     40929.0    32.26    4.0   58.20   998.0       Delhi       CNG   \n",
       "1    14     54493.0    24.00    5.0   47.30   796.0  Coimbatore    Petrol   \n",
       "2    18     34000.0    13.60    7.0  147.80  2393.0      Mumbai    Diesel   \n",
       "3    15     29000.0    18.00    5.0   82.85  1197.0      Mumbai    Petrol   \n",
       "4    17     85609.0    16.00    7.0  140.00  2179.0  Coimbatore    Diesel   \n",
       "\n",
       "  Transmission   Owner  ...  Diesel  CNG  Petrol  LPG  Automatic  Manual  \\\n",
       "0       Manual   First  ...       0    0       0    0          0       0   \n",
       "1       Manual  Second  ...       0    0       0    0          0       0   \n",
       "2       Manual   First  ...       0    0       0    0          0       0   \n",
       "3       Manual   First  ...       0    0       0    0          0       0   \n",
       "4       Manual  Second  ...       0    0       0    0          0       0   \n",
       "\n",
       "   Third  Fourth & Above  First  Second  \n",
       "0      0               0      0       0  \n",
       "1      0               0      0       0  \n",
       "2      0               0      0       0  \n",
       "3      0               0      0       0  \n",
       "4      0               0      0       0  \n",
       "\n",
       "[5 rows x 31 columns]"
      ]
     },
     "execution_count": 39,
     "metadata": {},
     "output_type": "execute_result"
    }
   ],
   "source": [
    "new_dataframe.head()"
   ]
  },
  {
   "cell_type": "code",
   "execution_count": 40,
   "metadata": {},
   "outputs": [],
   "source": [
    "for i in range(len(new_dataframe)):\n",
    "    new_dataframe.loc[i,new_dataframe.loc[i, \"Location\"]]=1\n",
    "for i in range(len(new_dataframe)):\n",
    "    new_dataframe.loc[i,new_dataframe.loc[i, \"Fuel Type\"]]=1\n",
    "for i in range(len(new_dataframe)):\n",
    "    new_dataframe.loc[i,new_dataframe.loc[i, \"Transmission\"]]=1\n",
    "for i in range(len(new_dataframe)):\n",
    "    new_dataframe.loc[i,new_dataframe.loc[i, \"Owner\"]]=1"
   ]
  },
  {
   "cell_type": "code",
   "execution_count": 41,
   "metadata": {},
   "outputs": [
    {
     "data": {
      "text/html": [
       "<div>\n",
       "<style scoped>\n",
       "    .dataframe tbody tr th:only-of-type {\n",
       "        vertical-align: middle;\n",
       "    }\n",
       "\n",
       "    .dataframe tbody tr th {\n",
       "        vertical-align: top;\n",
       "    }\n",
       "\n",
       "    .dataframe thead th {\n",
       "        text-align: right;\n",
       "    }\n",
       "</style>\n",
       "<table border=\"1\" class=\"dataframe\">\n",
       "  <thead>\n",
       "    <tr style=\"text-align: right;\">\n",
       "      <th></th>\n",
       "      <th>Year</th>\n",
       "      <th>Kilometers</th>\n",
       "      <th>Mileage</th>\n",
       "      <th>Seats</th>\n",
       "      <th>Power</th>\n",
       "      <th>Engine</th>\n",
       "      <th>Location</th>\n",
       "      <th>Fuel Type</th>\n",
       "      <th>Transmission</th>\n",
       "      <th>Owner</th>\n",
       "      <th>...</th>\n",
       "      <th>Diesel</th>\n",
       "      <th>CNG</th>\n",
       "      <th>Petrol</th>\n",
       "      <th>LPG</th>\n",
       "      <th>Automatic</th>\n",
       "      <th>Manual</th>\n",
       "      <th>Third</th>\n",
       "      <th>Fourth &amp; Above</th>\n",
       "      <th>First</th>\n",
       "      <th>Second</th>\n",
       "    </tr>\n",
       "  </thead>\n",
       "  <tbody>\n",
       "    <tr>\n",
       "      <th>0</th>\n",
       "      <td>15</td>\n",
       "      <td>40929.0</td>\n",
       "      <td>32.26</td>\n",
       "      <td>4.0</td>\n",
       "      <td>58.20</td>\n",
       "      <td>998.0</td>\n",
       "      <td>Delhi</td>\n",
       "      <td>CNG</td>\n",
       "      <td>Manual</td>\n",
       "      <td>First</td>\n",
       "      <td>...</td>\n",
       "      <td>0</td>\n",
       "      <td>1</td>\n",
       "      <td>0</td>\n",
       "      <td>0</td>\n",
       "      <td>0</td>\n",
       "      <td>1</td>\n",
       "      <td>0</td>\n",
       "      <td>0</td>\n",
       "      <td>1</td>\n",
       "      <td>0</td>\n",
       "    </tr>\n",
       "    <tr>\n",
       "      <th>1</th>\n",
       "      <td>14</td>\n",
       "      <td>54493.0</td>\n",
       "      <td>24.00</td>\n",
       "      <td>5.0</td>\n",
       "      <td>47.30</td>\n",
       "      <td>796.0</td>\n",
       "      <td>Coimbatore</td>\n",
       "      <td>Petrol</td>\n",
       "      <td>Manual</td>\n",
       "      <td>Second</td>\n",
       "      <td>...</td>\n",
       "      <td>0</td>\n",
       "      <td>0</td>\n",
       "      <td>1</td>\n",
       "      <td>0</td>\n",
       "      <td>0</td>\n",
       "      <td>1</td>\n",
       "      <td>0</td>\n",
       "      <td>0</td>\n",
       "      <td>0</td>\n",
       "      <td>1</td>\n",
       "    </tr>\n",
       "    <tr>\n",
       "      <th>2</th>\n",
       "      <td>18</td>\n",
       "      <td>34000.0</td>\n",
       "      <td>13.60</td>\n",
       "      <td>7.0</td>\n",
       "      <td>147.80</td>\n",
       "      <td>2393.0</td>\n",
       "      <td>Mumbai</td>\n",
       "      <td>Diesel</td>\n",
       "      <td>Manual</td>\n",
       "      <td>First</td>\n",
       "      <td>...</td>\n",
       "      <td>1</td>\n",
       "      <td>0</td>\n",
       "      <td>0</td>\n",
       "      <td>0</td>\n",
       "      <td>0</td>\n",
       "      <td>1</td>\n",
       "      <td>0</td>\n",
       "      <td>0</td>\n",
       "      <td>1</td>\n",
       "      <td>0</td>\n",
       "    </tr>\n",
       "    <tr>\n",
       "      <th>3</th>\n",
       "      <td>15</td>\n",
       "      <td>29000.0</td>\n",
       "      <td>18.00</td>\n",
       "      <td>5.0</td>\n",
       "      <td>82.85</td>\n",
       "      <td>1197.0</td>\n",
       "      <td>Mumbai</td>\n",
       "      <td>Petrol</td>\n",
       "      <td>Manual</td>\n",
       "      <td>First</td>\n",
       "      <td>...</td>\n",
       "      <td>0</td>\n",
       "      <td>0</td>\n",
       "      <td>1</td>\n",
       "      <td>0</td>\n",
       "      <td>0</td>\n",
       "      <td>1</td>\n",
       "      <td>0</td>\n",
       "      <td>0</td>\n",
       "      <td>1</td>\n",
       "      <td>0</td>\n",
       "    </tr>\n",
       "    <tr>\n",
       "      <th>4</th>\n",
       "      <td>17</td>\n",
       "      <td>85609.0</td>\n",
       "      <td>16.00</td>\n",
       "      <td>7.0</td>\n",
       "      <td>140.00</td>\n",
       "      <td>2179.0</td>\n",
       "      <td>Coimbatore</td>\n",
       "      <td>Diesel</td>\n",
       "      <td>Manual</td>\n",
       "      <td>Second</td>\n",
       "      <td>...</td>\n",
       "      <td>1</td>\n",
       "      <td>0</td>\n",
       "      <td>0</td>\n",
       "      <td>0</td>\n",
       "      <td>0</td>\n",
       "      <td>1</td>\n",
       "      <td>0</td>\n",
       "      <td>0</td>\n",
       "      <td>0</td>\n",
       "      <td>1</td>\n",
       "    </tr>\n",
       "  </tbody>\n",
       "</table>\n",
       "<p>5 rows × 31 columns</p>\n",
       "</div>"
      ],
      "text/plain": [
       "   Year  Kilometers  Mileage  Seats   Power  Engine    Location Fuel Type  \\\n",
       "0    15     40929.0    32.26    4.0   58.20   998.0       Delhi       CNG   \n",
       "1    14     54493.0    24.00    5.0   47.30   796.0  Coimbatore    Petrol   \n",
       "2    18     34000.0    13.60    7.0  147.80  2393.0      Mumbai    Diesel   \n",
       "3    15     29000.0    18.00    5.0   82.85  1197.0      Mumbai    Petrol   \n",
       "4    17     85609.0    16.00    7.0  140.00  2179.0  Coimbatore    Diesel   \n",
       "\n",
       "  Transmission   Owner  ...  Diesel  CNG  Petrol  LPG  Automatic  Manual  \\\n",
       "0       Manual   First  ...       0    1       0    0          0       1   \n",
       "1       Manual  Second  ...       0    0       1    0          0       1   \n",
       "2       Manual   First  ...       1    0       0    0          0       1   \n",
       "3       Manual   First  ...       0    0       1    0          0       1   \n",
       "4       Manual  Second  ...       1    0       0    0          0       1   \n",
       "\n",
       "   Third  Fourth & Above  First  Second  \n",
       "0      0               0      1       0  \n",
       "1      0               0      0       1  \n",
       "2      0               0      1       0  \n",
       "3      0               0      1       0  \n",
       "4      0               0      0       1  \n",
       "\n",
       "[5 rows x 31 columns]"
      ]
     },
     "execution_count": 41,
     "metadata": {},
     "output_type": "execute_result"
    }
   ],
   "source": [
    "new_dataframe.head()"
   ]
  },
  {
   "cell_type": "code",
   "execution_count": 42,
   "metadata": {},
   "outputs": [],
   "source": [
    "del new_dataframe['Location']\n",
    "del new_dataframe['Fuel Type']\n",
    "del new_dataframe['Transmission']\n",
    "del new_dataframe['Owner']"
   ]
  },
  {
   "cell_type": "code",
   "execution_count": 43,
   "metadata": {},
   "outputs": [],
   "source": [
    "x=new_dataframe[['Year','Kilometers','Mileage','Seats','Power','Engine',\n",
    "                'Pune','Mumbai','Delhi','Ahmedabad','Jaipur','Kochi','Chennai',\n",
    "                'Bangalore','Kolkata','Hyderabad','Coimbatore','Diesel','Petrol',\n",
    "                'CNG','LPG','Automatic','Manual','Second','Third','Fourth & Above',\n",
    "                'First']]"
   ]
  },
  {
   "cell_type": "code",
   "execution_count": 45,
   "metadata": {},
   "outputs": [],
   "source": [
    "import pickle\n",
    "infile = open('CarPricePrediction.pkl','rb')\n",
    "regressor = pickle.load(infile)\n",
    "infile.close()"
   ]
  },
  {
   "cell_type": "code",
   "execution_count": 46,
   "metadata": {},
   "outputs": [],
   "source": [
    "y_pred = regressor.predict(x)"
   ]
  },
  {
   "cell_type": "code",
   "execution_count": 48,
   "metadata": {},
   "outputs": [
    {
     "name": "stdout",
     "output_type": "stream",
     "text": [
      "[ 1.74  2.96 16.95 ...  2.85  3.4  14.4 ]\n"
     ]
    }
   ],
   "source": [
    "#These are the predicted prices\n",
    "print(y_pred)"
   ]
  },
  {
   "cell_type": "code",
   "execution_count": null,
   "metadata": {},
   "outputs": [],
   "source": []
  }
 ],
 "metadata": {
  "kernelspec": {
   "display_name": "Python 3",
   "language": "python",
   "name": "python3"
  },
  "language_info": {
   "codemirror_mode": {
    "name": "ipython",
    "version": 3
   },
   "file_extension": ".py",
   "mimetype": "text/x-python",
   "name": "python",
   "nbconvert_exporter": "python",
   "pygments_lexer": "ipython3",
   "version": "3.6.8"
  }
 },
 "nbformat": 4,
 "nbformat_minor": 2
}
